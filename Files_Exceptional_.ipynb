{
  "nbformat": 4,
  "nbformat_minor": 0,
  "metadata": {
    "colab": {
      "provenance": []
    },
    "kernelspec": {
      "name": "python3",
      "display_name": "Python 3"
    },
    "language_info": {
      "name": "python"
    }
  },
  "cells": [
    {
      "cell_type": "code",
      "execution_count": null,
      "metadata": {
        "id": "3JH-SpIqtKq-"
      },
      "outputs": [],
      "source": []
    },
    {
      "cell_type": "markdown",
      "source": [
        "Ques 1.What is the difference between interpreted and compiled languages?\n",
        "       \n",
        "       \n",
        "       Interpreted languages are translated and executed line by line by an\n",
        "       interpreter, like Python or JavaScript. This means the code is read and\n",
        "       run on the fly.\n",
        "\n",
        "       Compiled languages are translated into machine code before execution by\n",
        "       a compiler, typically resulting in faster performance. Examples include C\n",
        "       ++ and Java. The entire code is translated into an executable file\n",
        "       before it's\n",
        "\n",
        "Ques 2. What is exception handling in Python?\n",
        "        \n",
        "        \n",
        "        An exception is an event that occurs during programme execution that\n",
        "        disrupts the regular flow of execution (for example, when a key is not\n",
        "        found in a dictionary). A Python object that reflects an error is known\n",
        "        as an exception.\n",
        "        In Python, an exception is an object derived from the BaseException\n",
        "        class that includes information about a method error occurrence.\n",
        "        \n",
        "\n",
        "Ques 3. What is the purpose of the finally block in exception handling?\n",
        "        \n",
        "        \n",
        "        The purpose of the finally block in exception handling is to define a\n",
        "        block of code that will be executed regardless of whether an exception\n",
        "        is raised or not. This is often used for cleanup actions, such as\n",
        "        closing files or releasing resources, to ensure they are performed even\n",
        "        if errors occur.\n",
        "        \n",
        "\n",
        "Ques 4. What is logging in Python?\n",
        "\n",
        "       \n",
        "       Logging is a means of tracking events that happen when some software\n",
        "       runs. The software's developer adds logging calls to their code to\n",
        "       indicate that certain events have occurred.\n",
        "\n",
        "       In Python, a \"logger\" refers to an object from the built-in logging\n",
        "       module that serves as the entry point for recording messages and events\n",
        "       within a program. It is a fundamental component of Python's robust\n",
        "       logging system.\n",
        "        \n",
        "\n",
        "Ques 5. What is the significance of the __del__ method in Python?\n",
        "        \n",
        "        \n",
        "        The __del__ method in Python, often referred to as a \"finalizer\" or\n",
        "        \"destructor\" (though not a true destructor in the C++ sense), is a\n",
        "        special method that is called when an object is about to be\n",
        "        garbage-collected. Its primary significance lies in providing a\n",
        "        mechanism for performing cleanup operations or resource release just\n",
        "        before an object is completely removed from memory.\n",
        "\n",
        "Ques 6. What is the difference between import and from ... import in Python?\n",
        "        \n",
        "       \n",
        "        Namespace Pollution:\n",
        "        import module_name keeps the module's contents within its own\n",
        "        namespace, requiring explicit referencing. from ... import directly\n",
        "        places components into the current namespace, potentially leading to\n",
        "        name conflicts if multiple imported components share the same name.\n",
        "        Readability:\n",
        "        import module_name can be more explicit about where a function or class\n",
        "        originates, especially in larger projects. from ... import can be more\n",
        "        concise when frequently using a few specific components from a module.\n",
        "\n",
        "Ques 7. How can you handle multiple exceptions in Python?\n",
        "        \n",
        "       \n",
        "        Python allows you to catch multiple exceptions in a single 'except'\n",
        "        block by specifying them as a tuple. This feature is useful when\n",
        "        different exceptions require similar handling logic. In this case, if\n",
        "        either 'ExceptionType1' or 'ExceptionType2' is raised, the code within\n",
        "        the 'except' block will be executed\n",
        "\n",
        "Ques 8. What is the purpose of the with statement when handling files in Python?\n",
        "        \n",
        "       \n",
        "        The with statement in Python, when used with file handling, serves the\n",
        "        primary purpose of ensuring proper resource management, specifically\n",
        "        guaranteeing that files are automatically closed after their use, even\n",
        "        if errors occur.\n",
        "\n",
        "        \n",
        "Ques 9. What is the difference between multithreading and multiprocessing?\n",
        "        \n",
        "      \n",
        "        Independence:\n",
        "\n",
        "        In multiprocessing, each process has its own memory space and\n",
        "        resources. Processes are independent of each\n",
        "        other, and communication between them requires explicit IPC mechanisms.\n",
        "        In multithreading, multiple threads share the same memory space within  \n",
        "        a single process. Threads are lighter\n",
        "        weight than processes and share resources more easily.\n",
        "\n",
        "        Communication:\n",
        "\n",
        "        Multiprocessing relies on IPC for communication between processes. This can involve message passing, shared\n",
        "        memory, or other communication mechanisms.\n",
        "        Multithreading involves sharing data more directly since threads within the same process share the same\n",
        "        memory space.\n",
        "\n",
        "        Fault Isolation:\n",
        "\n",
        "        Processes in multiprocessing are more isolated, providing better fault\n",
        "        isolation. If one process crashes, it does\n",
        "        not necessarily affect others.\n",
        "        Threads in multithreading share the same memory space, making them more\n",
        "        susceptible to issues such as\n",
        "        data corruption or unintended interactions.\n",
        "        \n",
        "        Resource Utilization:\n",
        "\n",
        "        Multiprocessing can take advantage of multiple CPU cores, as each\n",
        "        process can run on a separate core.\n",
        "        Multithreading is suitable for tasks that can be parallelized within a\n",
        "        single process but may not fully utilize\n",
        "        multiple cores.\n",
        "        Importance of Multiprocessing in Modern Computing:\n",
        "        \n",
        "        Parallelism and Performance:\n",
        "\n",
        "        Multiprocessing allows for true parallelism, enabling multiple\n",
        "        processes to run simultaneously on multiple CPU\n",
        "        cores. This leads to improved performance and faster execution of tasks.\n",
        "\n",
        "Ques 10.What are the advantages of using logging in a program?\n",
        "        \n",
        "       \n",
        "        Logging offers numerous advantages in programming, primarily aiding in\n",
        "        debugging, performance monitoring, and security. It provides a detailed\n",
        "        record of application behavior, allowing developers to understand how\n",
        "        the program functions, track events, and identify issues, including\n",
        "        errors, warnings, and other critical events. Logs also help in\n",
        "        analyzing application behavior over time, detecting usage patterns, and\n",
        "        even facilitating incident investigations\n",
        "        \n",
        "\n",
        "Ques 11. What is memory management in Python?\n",
        "        \n",
        "       \n",
        "        Memory management in Python refers to the automatic process by which\n",
        "        Python handles the allocation and deallocation of memory for its\n",
        "        objects and data structures. Unlike languages like C or C++ where\n",
        "        manual memory management is often required, Python abstracts this\n",
        "        complexity, allowing developers to focus on writing code without\n",
        "        needing to explicitly allocate or free memory.\n",
        "         \n",
        "\n",
        "\n",
        "Ques 12. What are the basic steps involved in exception handling in Python?\n",
        "         \n",
        "        \n",
        "         Exception handling in Python involves using specific blocks to manage\n",
        "         potential errors and ensure program stability. The basic steps are as\n",
        "         follows:\n",
        "         try Block: This block contains the code segment that might raise an\n",
        "         exception. Python attempts to execute the code within this block. If\n",
        "         an exception occurs, the remaining code within the try block is\n",
        "         skipped, and control is transferred to the appropriate except block.\n",
        "         \n",
        "         except Block(s): Following a try block, one or more except blocks can\n",
        "         be used to handle specific or general exceptions. If an exception\n",
        "         matching the type specified in an except block occurs in the try\n",
        "         block, the code within that except block is executed.\n",
        "         \n",
        "         else Block (Optional): An else block can be included after all except\n",
        "         blocks. The code within the else block executes only if no exceptions\n",
        "         are raised in the corresponding try block.\n",
        "         \n",
        "         finally Block (Optional): A finally block, if present, always executes\n",
        "         regardless of whether an exception occurred or not. This block is\n",
        "         typically used for cleanup operations, such as closing files or\n",
        "         releasing resources.\n",
        "         \n",
        "\n",
        "\n",
        "         \n",
        "\n",
        "Ques 13. Why is memory management important in Python?\n",
        "         \n",
        "        \n",
        "         Efficiency and Performance:Efficient memory management prevents\n",
        "         excessive memory consumption, which can lead to slower program\n",
        "         execution and even system slowdowns or crashes, especially in\n",
        "         applications dealing with large datasets or running for extended\n",
        "         periods. Understanding how Python allocates and deallocates memory\n",
        "         allows developers to write more optimized code, reducing the memory\n",
        "         footprint and improving overall performance.\n",
        "         \n",
        "         Preventing Memory Leaks:Although Python's garbage collector handles\n",
        "         automatic memory deallocation, certain scenarios can lead to memory\n",
        "         leaks (e.g., circular references not caught by the garbage collector).\n",
        "         Understanding memory management helps in identifying and preventing\n",
        "         these leaks, ensuring that memory is properly released when no longer needed.\n",
        "         \n",
        "         Resource Optimization:In resource-constrained environments or for\n",
        "         applications requiring high scalability, efficient memory usage is\n",
        "         crucial. By being aware of how different data structures and\n",
        "         operations impact memory, developers can choose the most\n",
        "         memory-efficient approaches and optimize their code for better resource utilization.\n",
        "        \n",
        "        Debugging and Troubleshooting:Knowledge of Python's memory management\n",
        "        model (e.g., reference counting, garbage collection) is essential for\n",
        "        debugging memory-related issues like high memory usage or unexpected\n",
        "        program termination. It enables developers to pinpoint the source of\n",
        "        memory problems and implement effective solutions.\n",
        "        \n",
        "        Understanding Python's Behavior:Comprehending how Python manages memory\n",
        "        provides a deeper understanding of the language's internal workings.\n",
        "        This knowledge helps in writing more robust and predictable code, as\n",
        "        developers can anticipate how Python will handle object creation, destruction, and memory allocation.\n",
        "\n",
        "Ques 14. What is the role of try and except in exception handling?\n",
        "         \n",
        "        \n",
        "         In Python, the try and except statements are used for exception\n",
        "         handling, which allows programs to gracefully manage errors that might\n",
        "         occur during execution rather than crashing abruptly. The try block\n",
        "         contains the code that might raise an exception, while the except\n",
        "         block handles the exception if it occurs.\n",
        "         \n",
        "\n",
        "Ques 15. How does Python's garbage collection system work?\n",
        "         \n",
        "         \n",
        "         Python's garbage collection system primarily uses reference counting\n",
        "         as its main mechanism for memory management. It also employs a\n",
        "         generational garbage collector to handle circular references.\n",
        "         Essentially, Python keeps track of how many references point to each\n",
        "         object. When the reference count drops to zero, the object is\n",
        "         considered garbage and its memory is freed.\n",
        "         \n",
        "\n",
        "Ques 16. What is the purpose of the else block in exception handling?\n",
        "         \n",
        "         \n",
        "         The else block is useful for separating code that should run only if\n",
        "         the try block is successful from the code that handles potential\n",
        "         errors. For example, if you want to process a result only if a\n",
        "         calculation in the try block succeeded without errors, you would place\n",
        "         that processing code in the else block. This separation makes the code\n",
        "         cleaner and easier to understand, and can prevent unintended errors\n",
        "         from being caught by the except blocks.\n",
        "         \n",
        "\n",
        "\n",
        "Ques 17. What are the common logging levels in Python?\n",
        "         \n",
        "        \n",
        "         Notset = 0: This is the initial default setting of a log when it is\n",
        "         created. ...\n",
        "         Debug = 10: This level gives detailed information, useful only when a\n",
        "         problem is being diagnosed.\n",
        "         Info = 20: This is used to confirm that everything is working as it\n",
        "         should.\n",
        "\n",
        "\n",
        "Ques 18. What is the difference between os.fork() and multiprocessing in Python?\n",
        "         \n",
        "        \n",
        "         Resource Release:\n",
        "        \n",
        "         When a file is opened, the operating system allocates resources (like\n",
        "         memory buffers and file handles) to manage it. Failing to close a file\n",
        "         properly means these resources are not released, potentially leading\n",
        "         to resource leaks. If too many files are left open, the system might\n",
        "         run out of available file handles, preventing other processes or even\n",
        "         the current program from opening new files or connections.\n",
        "         \n",
        "         Data Integrity and Persistence:\n",
        "         \n",
        "         When writing to a file, data is often first written to an in-memory\n",
        "         buffer before being flushed to the disk. The close() method ensures\n",
        "         that any remaining data in this buffer is written to the physical file\n",
        "         on the storage device. If a file is not closed, and the program\n",
        "         terminates unexpectedly (e.g., due to a crash or power loss), the\n",
        "         buffered data might be lost, leading to incomplete or corrupted files.\n",
        "        \n",
        "         File Locking and Access:\n",
        "        \n",
        "         In some cases, opening a file can create a lock, preventing other\n",
        "         processes or users from accessing or modifying it. Closing the file\n",
        "         releases this lock, allowing other operations to proceed.\n",
        "         \n",
        "         Code Reliability and Predictability:\n",
        "        \n",
        "        Explicitly closing files makes your code more robust and predictable.\n",
        "        Relying on automatic garbage collection to close files is not ideal, as\n",
        "        the exact timing of garbage collection is not guaranteed and can vary\n",
        "        between Python implementations. Using file.close() or, even better, the\n",
        "        with statement (which automatically handles closing) ensures proper\n",
        "        file management regardless of program flow or exceptions.\n",
        "\n",
        "         \n",
        "\n",
        "         \n",
        "Ques 19. What is the importance of closing a file in Python?\n",
        "         \n",
        "         \n",
        "         Closing a file ensures that all data is written to disk and system\n",
        "         resources are released. Failing to close files can lead to data\n",
        "         corruption or memory leaks.\n",
        "         \n",
        "\n",
        "Ques 20. What is the difference between file.read() and file.readline() in     \n",
        "Python?\n",
        "\n",
        "\n",
        "         Reads the entire file content as a single string readline(): Reads one\n",
        "         line at a time, useful for large files\n",
        "\n",
        "Ques 21. What is the logging module in Python used for?\n",
        "         \n",
        "        \n",
        "         The logging module provides a flexible framework for emitting log\n",
        "         messages from Python programs. It helps track events, errors, and\n",
        "         system behavior during execution.\n",
        "\n",
        "Ques 22. What is the os module in Python used for in file handling?\n",
        "         \n",
        "         \n",
        "         The os module allows interaction with the operating system. In file\n",
        "         handling, it helps with tasks like checking file existence, creating\n",
        "         directories, renaming, and deleting files.\n",
        "\n",
        "Ques 23. What are the challenges associated with memory management in Python?\n",
        "         \n",
        "        \n",
        "         Detecting and cleaning circular references. Managing memory in\n",
        "         large-scale applications. Avoiding memory leaks due to lingering\n",
        "         references. Balancing performance with memory usage.\n",
        "\n",
        "Ques 24.  How do you raise an exception manually in Python?\n",
        "          \n",
        "          \n",
        "          We can raise exceptions using the raise keyword to signal an error\n",
        "          intentionally: raise ValueError(\"Invalid input provided\")\n",
        "\n",
        "Ques 25. Why is it important to use multithreading in certain applications?\n",
        "         \n",
        "        \n",
        "         Multithreading is useful in I/O-bound applications like web servers or\n",
        "         file operations. It allows multiple tasks to run concurrently,\n",
        "         improving responsiveness and performance."
      ],
      "metadata": {
        "id": "YL5l3LFrvMc9"
      }
    },
    {
      "cell_type": "markdown",
      "source": [
        "Practical Questions:-"
      ],
      "metadata": {
        "id": "VyFKU_NpeI48"
      }
    },
    {
      "cell_type": "code",
      "source": [
        "#1) How can you open a file for writing in Python and write a string to it?\n",
        "with open(\"example.txt\", \"w\") as file:\n",
        "    file.write(\"Hello, world!\")"
      ],
      "metadata": {
        "id": "npcwKC9wxlpO"
      },
      "execution_count": 1,
      "outputs": []
    },
    {
      "cell_type": "code",
      "source": [
        "#2) Write a Python program to read the contents of a file and print each line.\n",
        "with open(\"practfile.txt\", \"r\") as file:\n",
        "    for line in file:\n",
        "        print(line.strip())"
      ],
      "metadata": {
        "colab": {
          "base_uri": "https://localhost:8080/",
          "height": 193
        },
        "id": "A2jmHu_seNAO",
        "outputId": "e09bdbb3-6172-4826-bd28-d5654000c806"
      },
      "execution_count": 2,
      "outputs": [
        {
          "output_type": "error",
          "ename": "FileNotFoundError",
          "evalue": "[Errno 2] No such file or directory: 'practfile.txt'",
          "traceback": [
            "\u001b[0;31m---------------------------------------------------------------------------\u001b[0m",
            "\u001b[0;31mFileNotFoundError\u001b[0m                         Traceback (most recent call last)",
            "\u001b[0;32m/tmp/ipython-input-2-2344539904.py\u001b[0m in \u001b[0;36m<cell line: 0>\u001b[0;34m()\u001b[0m\n\u001b[1;32m      1\u001b[0m \u001b[0;31m#2) Write a Python program to read the contents of a file and print each line.\u001b[0m\u001b[0;34m\u001b[0m\u001b[0;34m\u001b[0m\u001b[0m\n\u001b[0;32m----> 2\u001b[0;31m \u001b[0;32mwith\u001b[0m \u001b[0mopen\u001b[0m\u001b[0;34m(\u001b[0m\u001b[0;34m\"practfile.txt\"\u001b[0m\u001b[0;34m,\u001b[0m \u001b[0;34m\"r\"\u001b[0m\u001b[0;34m)\u001b[0m \u001b[0;32mas\u001b[0m \u001b[0mfile\u001b[0m\u001b[0;34m:\u001b[0m\u001b[0;34m\u001b[0m\u001b[0;34m\u001b[0m\u001b[0m\n\u001b[0m\u001b[1;32m      3\u001b[0m     \u001b[0;32mfor\u001b[0m \u001b[0mline\u001b[0m \u001b[0;32min\u001b[0m \u001b[0mfile\u001b[0m\u001b[0;34m:\u001b[0m\u001b[0;34m\u001b[0m\u001b[0;34m\u001b[0m\u001b[0m\n\u001b[1;32m      4\u001b[0m         \u001b[0mprint\u001b[0m\u001b[0;34m(\u001b[0m\u001b[0mline\u001b[0m\u001b[0;34m.\u001b[0m\u001b[0mstrip\u001b[0m\u001b[0;34m(\u001b[0m\u001b[0;34m)\u001b[0m\u001b[0;34m)\u001b[0m\u001b[0;34m\u001b[0m\u001b[0;34m\u001b[0m\u001b[0m\n",
            "\u001b[0;31mFileNotFoundError\u001b[0m: [Errno 2] No such file or directory: 'practfile.txt'"
          ]
        }
      ]
    },
    {
      "cell_type": "code",
      "source": [
        "#3) How would you handle a case where the file doesn't exist while trying to open it for reading.\n",
        "filename = \"nonexistent_file.txt\"\n",
        "\n",
        "try:\n",
        "    with open(filename, \"r\") as file:\n",
        "        content = file.read()\n",
        "        print(content)\n",
        "except FileNotFoundError:\n",
        "    print(f\"Error: The file '{filename}' does not exist.\")"
      ],
      "metadata": {
        "colab": {
          "base_uri": "https://localhost:8080/"
        },
        "id": "nGMx8T9PeSZV",
        "outputId": "655290e5-c0be-4383-894f-b9d1111fb57e"
      },
      "execution_count": 3,
      "outputs": [
        {
          "output_type": "stream",
          "name": "stdout",
          "text": [
            "Error: The file 'nonexistent_file.txt' does not exist.\n"
          ]
        }
      ]
    },
    {
      "cell_type": "code",
      "source": [
        "#4)Write a Python script that reads from one file and writes its content to another file\n",
        "# Define source and destination file paths\n",
        "source_file = \"practfile.txt\"\n",
        "destination_file = \"example.txt\"\n",
        "\n",
        "try:\n",
        "    # Open the source file for reading\n",
        "    with open(source_file, \"r\") as src:\n",
        "        content = src.read()\n",
        "\n",
        "    # Open the destination file for writing\n",
        "    with open(destination_file, \"w\") as dest:\n",
        "        dest.write(content)\n",
        "\n",
        "    print(f\"Content successfully copied from '{source_file}' to '{destination_file}'.\")\n",
        "\n",
        "except FileNotFoundError:\n",
        "    print(f\"Error: The file '{source_file}' does not exist.\")\n",
        "except IOError as e:\n",
        "    print(f\"An I/O error occurred: {e}\")"
      ],
      "metadata": {
        "colab": {
          "base_uri": "https://localhost:8080/"
        },
        "id": "cBp3FzWUeZPJ",
        "outputId": "c9790237-cad1-4d7c-fa85-d20a2a9125df"
      },
      "execution_count": 4,
      "outputs": [
        {
          "output_type": "stream",
          "name": "stdout",
          "text": [
            "Error: The file 'practfile.txt' does not exist.\n"
          ]
        }
      ]
    },
    {
      "cell_type": "code",
      "source": [
        "with open(\"example.txt\", \"r\") as file:\n",
        "    for line in file:\n",
        "        print(line.strip())"
      ],
      "metadata": {
        "colab": {
          "base_uri": "https://localhost:8080/"
        },
        "id": "CzgNwt7gehO4",
        "outputId": "509eac2d-8dae-4a63-d2b4-738d9d52d58b"
      },
      "execution_count": 5,
      "outputs": [
        {
          "output_type": "stream",
          "name": "stdout",
          "text": [
            "Hello, world!\n"
          ]
        }
      ]
    },
    {
      "cell_type": "code",
      "source": [
        "#5) How would you catch and handle division by zero error in Python?\n",
        "try:\n",
        "    numerator = 10\n",
        "    denominator = 0\n",
        "    result = numerator / denominator\n",
        "    print(f\"Result: {result}\")\n",
        "except ZeroDivisionError:\n",
        "    print(\"Error: Hey, we cannot divide by zero.\")\n",
        ""
      ],
      "metadata": {
        "id": "ABaDIDx3elxU"
      },
      "execution_count": null,
      "outputs": []
    },
    {
      "cell_type": "code",
      "source": [
        "#6) Write a Python program that logs an error message to a log file when a division by zero exception occurs.\n",
        "import logging\n",
        "\n",
        "# Configure logging to write to a file\n",
        "logging.basicConfig(\n",
        "    filename=\"error_log.txt\",\n",
        "    level=logging.ERROR,\n",
        "    format=\"%(asctime)s - %(levelname)s - %(message)s\"\n",
        ")\n",
        "\n",
        "def divide(a, b):\n",
        "    try:\n",
        "        result = a / b\n",
        "        print(f\"Result: {result}\")\n",
        "    except ZeroDivisionError as e:\n",
        "        logging.error(\"Attempted to divide by zero: %s\", e)\n",
        "        print(\"Error: Cannot divide by zero.\")\n",
        "\n",
        "# Example usage\n",
        "divide(10, 0)"
      ],
      "metadata": {
        "colab": {
          "base_uri": "https://localhost:8080/"
        },
        "id": "KAqIGqusf4t8",
        "outputId": "ab6f65ff-8c5a-4854-e0df-a31abcfaf213"
      },
      "execution_count": 6,
      "outputs": [
        {
          "output_type": "stream",
          "name": "stderr",
          "text": [
            "ERROR:root:Attempted to divide by zero: division by zero\n"
          ]
        },
        {
          "output_type": "stream",
          "name": "stdout",
          "text": [
            "Error: Cannot divide by zero.\n"
          ]
        }
      ]
    },
    {
      "cell_type": "code",
      "source": [
        "with open(\"error_log.txt\", \"r\") as file:\n",
        "    for line in file:\n",
        "        print(line.strip())"
      ],
      "metadata": {
        "colab": {
          "base_uri": "https://localhost:8080/",
          "height": 176
        },
        "id": "c3PaDywqf75Z",
        "outputId": "3e7242a2-0e65-4b2a-e847-64221467ff0d"
      },
      "execution_count": 7,
      "outputs": [
        {
          "output_type": "error",
          "ename": "FileNotFoundError",
          "evalue": "[Errno 2] No such file or directory: 'error_log.txt'",
          "traceback": [
            "\u001b[0;31m---------------------------------------------------------------------------\u001b[0m",
            "\u001b[0;31mFileNotFoundError\u001b[0m                         Traceback (most recent call last)",
            "\u001b[0;32m/tmp/ipython-input-7-3528359800.py\u001b[0m in \u001b[0;36m<cell line: 0>\u001b[0;34m()\u001b[0m\n\u001b[0;32m----> 1\u001b[0;31m \u001b[0;32mwith\u001b[0m \u001b[0mopen\u001b[0m\u001b[0;34m(\u001b[0m\u001b[0;34m\"error_log.txt\"\u001b[0m\u001b[0;34m,\u001b[0m \u001b[0;34m\"r\"\u001b[0m\u001b[0;34m)\u001b[0m \u001b[0;32mas\u001b[0m \u001b[0mfile\u001b[0m\u001b[0;34m:\u001b[0m\u001b[0;34m\u001b[0m\u001b[0;34m\u001b[0m\u001b[0m\n\u001b[0m\u001b[1;32m      2\u001b[0m     \u001b[0;32mfor\u001b[0m \u001b[0mline\u001b[0m \u001b[0;32min\u001b[0m \u001b[0mfile\u001b[0m\u001b[0;34m:\u001b[0m\u001b[0;34m\u001b[0m\u001b[0;34m\u001b[0m\u001b[0m\n\u001b[1;32m      3\u001b[0m         \u001b[0mprint\u001b[0m\u001b[0;34m(\u001b[0m\u001b[0mline\u001b[0m\u001b[0;34m.\u001b[0m\u001b[0mstrip\u001b[0m\u001b[0;34m(\u001b[0m\u001b[0;34m)\u001b[0m\u001b[0;34m)\u001b[0m\u001b[0;34m\u001b[0m\u001b[0;34m\u001b[0m\u001b[0m\n",
            "\u001b[0;31mFileNotFoundError\u001b[0m: [Errno 2] No such file or directory: 'error_log.txt'"
          ]
        }
      ]
    },
    {
      "cell_type": "code",
      "source": [
        "#7) How do you log information at different levels (INFO, ERROR, WARNING) in Python using the logging module?\n",
        "import logging\n",
        "\n",
        "# Configure logging\n",
        "logging.basicConfig(\n",
        "    filename=\"app.log\",\n",
        "    level=logging.DEBUG,  # Capture all levels from DEBUG and above\n",
        "    format=\"%(asctime)s - %(levelname)s - %(message)s\"\n",
        ")\n",
        "\n",
        "# Log messages at different levels\n",
        "logging.debug(\"This is a debug message.\")\n",
        "logging.info(\"This is an info message.\")\n",
        "logging.warning(\"This is a warning message.\")\n",
        "logging.error(\"This is an error message.\")\n",
        "logging.critical(\"This is a critical message.\")"
      ],
      "metadata": {
        "colab": {
          "base_uri": "https://localhost:8080/"
        },
        "id": "W4Oa3Z7Df-8N",
        "outputId": "6bc58fc6-1574-446e-a77b-7a64d5688c5b"
      },
      "execution_count": 8,
      "outputs": [
        {
          "output_type": "stream",
          "name": "stderr",
          "text": [
            "WARNING:root:This is a warning message.\n",
            "ERROR:root:This is an error message.\n",
            "CRITICAL:root:This is a critical message.\n"
          ]
        }
      ]
    },
    {
      "cell_type": "code",
      "source": [
        "#8)  Write a program to handle a file opening error using exception handling.\n",
        "filename = \"nonexistent_file.txt\"\n",
        "\n",
        "try:\n",
        "    with open(filename, \"r\") as file: #It'll read the file\n",
        "        content = file.read()\n",
        "        print(content)\n",
        "except FileNotFoundError:\n",
        "    print(f\"Error: The file '{filename}' was not found.\")\n",
        "except PermissionError:\n",
        "    print(f\"Error: Permission denied to open the file '{filename}'.\")\n",
        "except Exception as e:\n",
        "    print(f\"An unexpected error occurred: {e}\")"
      ],
      "metadata": {
        "colab": {
          "base_uri": "https://localhost:8080/"
        },
        "id": "IIlG_KocgCKj",
        "outputId": "a5b0cdd0-6a56-4347-d801-245cc3219b30"
      },
      "execution_count": 9,
      "outputs": [
        {
          "output_type": "stream",
          "name": "stdout",
          "text": [
            "Error: The file 'nonexistent_file.txt' was not found.\n"
          ]
        }
      ]
    },
    {
      "cell_type": "code",
      "source": [
        "#9) How can you read a file line by line and store its content in a list in Python?\n",
        "filename = \"practfile.txt\"\n",
        "\n",
        "try:\n",
        "    with open(filename, \"r\") as file:\n",
        "        lines = [line.strip() for line in file]\n",
        "    print(lines)\n",
        "except FileNotFoundError:\n",
        "    print(f\"Error: The file '{filename}' was not found.\")"
      ],
      "metadata": {
        "colab": {
          "base_uri": "https://localhost:8080/"
        },
        "id": "7RbU9jWVgK0N",
        "outputId": "eea9af0f-428c-4125-a435-889f8a1485e2"
      },
      "execution_count": 10,
      "outputs": [
        {
          "output_type": "stream",
          "name": "stdout",
          "text": [
            "Error: The file 'practfile.txt' was not found.\n"
          ]
        }
      ]
    },
    {
      "cell_type": "code",
      "source": [
        "#10)  How can you append data to an existing file in Python?\n",
        "filename = \"example.txt\"\n",
        "data_to_append = \"\\nThis is a new line of text.\"\n",
        "\n",
        "try:\n",
        "    with open(filename, \"a\") as file:\n",
        "        file.write(data_to_append + \"\\n\")\n",
        "    print(\"Data appended successfully.\")\n",
        "except Exception as e:\n",
        "    print(f\"An error occurred: {e}\")"
      ],
      "metadata": {
        "colab": {
          "base_uri": "https://localhost:8080/"
        },
        "id": "9sHCHvjJgbWh",
        "outputId": "75374974-57a2-4e61-d0af-2f528ea69c4b"
      },
      "execution_count": 11,
      "outputs": [
        {
          "output_type": "stream",
          "name": "stdout",
          "text": [
            "Data appended successfully.\n"
          ]
        }
      ]
    },
    {
      "cell_type": "code",
      "source": [
        "with open(\"example.txt\", \"r\") as file:\n",
        "    for line in file:\n",
        "        print(line.strip())"
      ],
      "metadata": {
        "colab": {
          "base_uri": "https://localhost:8080/"
        },
        "id": "jYnOVaMzgeL7",
        "outputId": "4929b697-cad2-4b47-a80b-e2bcd314f79a"
      },
      "execution_count": 12,
      "outputs": [
        {
          "output_type": "stream",
          "name": "stdout",
          "text": [
            "Hello, world!\n",
            "This is a new line of text.\n"
          ]
        }
      ]
    },
    {
      "cell_type": "code",
      "source": [
        "#11) Write a Python program that uses a try-except block to handle an error when attempting to access a dictionary key that doesn't exist.\n",
        "# Define a sample dictionary\n",
        "person = {\n",
        "    \"name\": \"Sonu Pandit\",\n",
        "    \"age\": 25\n",
        "}\n",
        "\n",
        "# Attempt to access a non-existent key\n",
        "try:\n",
        "    print(\"Name:\", person[\"name\"])\n",
        "    print(\"Occupation:\", person[\"occupation\"])  # This key doesn't exist\n",
        "except KeyError as e:\n",
        "    print(f\"Error: The key '{e}' does not exist in the dictionary.\")"
      ],
      "metadata": {
        "colab": {
          "base_uri": "https://localhost:8080/"
        },
        "id": "EpspJthwggmY",
        "outputId": "4285e0cf-aad7-44f2-f9e1-1b3bc2f8804e"
      },
      "execution_count": 13,
      "outputs": [
        {
          "output_type": "stream",
          "name": "stdout",
          "text": [
            "Name: Sonu Pandit\n",
            "Error: The key ''occupation'' does not exist in the dictionary.\n"
          ]
        }
      ]
    },
    {
      "cell_type": "code",
      "source": [
        "#12) Write a program that demonstrates using multiple except blocks to handle different types of exceptions.\n",
        "def exception_demo():\n",
        "    try:\n",
        "        # Trigger a ValueError\n",
        "        number = int(input(\"Enter a number: \"))\n",
        "\n",
        "        # Trigger a ZeroDivisionError\n",
        "        result = 10 / number\n",
        "\n",
        "        # Trigger a KeyError\n",
        "        sample_dict = {\"a\": 1, \"b\": 2}\n",
        "        print(sample_dict[\"c\"])\n",
        "\n",
        "    except ValueError:\n",
        "        print(\"You did not enter a valid integer.\")\n",
        "\n",
        "    except ZeroDivisionError:\n",
        "        print(\"Division by zero is not allowed.\")\n",
        "\n",
        "    except KeyError as e:\n",
        "        print(f\"KeyError: The key '{e}' does not exist in the dictionary.\")\n",
        "\n",
        "    except Exception as e:\n",
        "        print(f\"An unexpected error occurred: {e}\")\n",
        "\n",
        "# Run the function\n",
        "exception_demo()"
      ],
      "metadata": {
        "id": "RAAeS5JLgli0"
      },
      "execution_count": null,
      "outputs": []
    },
    {
      "cell_type": "code",
      "source": [
        "#13)  How would you check if a file exists before attempting to read it in Python?\n",
        "import os\n",
        "\n",
        "file_path = \"example.txt\"\n",
        "\n",
        "if os.path.exists(file_path):\n",
        "    with open(file_path, 'r') as file:\n",
        "        content = file.read()\n",
        "        print(content)\n",
        "else:\n",
        "    print(f\"File does not exist.\")"
      ],
      "metadata": {
        "id": "q7BncXirgpFe"
      },
      "execution_count": null,
      "outputs": []
    },
    {
      "cell_type": "code",
      "source": [
        "#14) Write a program that uses the logging module to log both informational and error messages.\n",
        "import logging\n",
        "\n",
        "# Basic logging setup\n",
        "logging.basicConfig(level=logging.INFO)\n",
        "\n",
        "def divide(a, b):\n",
        "    try:\n",
        "        result = a / b\n",
        "        logging.info(f\"Result: {result}\")\n",
        "    except ZeroDivisionError:\n",
        "        logging.error(\"Cannot divide by zero.\")\n",
        "    except Exception as e:\n",
        "        logging.error(f\"Error: {e}\")\n",
        "\n",
        "# Test the function\n",
        "divide(10, 2)\n",
        "#divide(10, 0)\n",
        "#divide(\"10\", 2)"
      ],
      "metadata": {
        "id": "Nitmn16Ugt--"
      },
      "execution_count": null,
      "outputs": []
    },
    {
      "cell_type": "code",
      "source": [
        "#15) Write a Python program that prints the content of a file and handles the case when the file is empty.\n",
        "def read_file(filename):\n",
        "    try:\n",
        "        with open(filename, 'r') as file:\n",
        "            content = file.read()\n",
        "            if content.strip() == \"\":\n",
        "                print(\"The file is empty.\")\n",
        "            else:\n",
        "                print(\"File content:\")\n",
        "                print(content)\n",
        "    except FileNotFoundError:\n",
        "        print(\"The file does not exist.\")\n",
        "    except Exception as e:\n",
        "        print(f\"An error occurred: {e}\")\n",
        "\n",
        "# Example usage\n",
        "read_file(\"example.txt\")"
      ],
      "metadata": {
        "id": "IrKF3Ny3gwsI"
      },
      "execution_count": null,
      "outputs": []
    },
    {
      "cell_type": "code",
      "source": [
        "#16)  Demonstrate how to use memory profiling to check the memory usage of a small program.\n",
        "pip install memory-profiler\n",
        "from memory_profiler import profile\n",
        "\n",
        "@profile\n",
        "def create_large_list():\n",
        "    large_list = [i * 2 for i in range(100000)]\n",
        "    return sum(large_list)\n",
        "\n",
        "if __name__ == \"__main__\":\n",
        "    create_large_list()\n",
        "python -m memory_profiler your_script.py"
      ],
      "metadata": {
        "id": "_LnLDeZhg0YG"
      },
      "execution_count": null,
      "outputs": []
    },
    {
      "cell_type": "code",
      "source": [
        "#17) Write a Python program to create and write a list of numbers to a file, one number per line.\n",
        "# Define a list of numbers\n",
        "numbers = [1, 2, 3, 4, 5, 10, 20, 30]\n",
        "\n",
        "# Specify the output file name\n",
        "file_name = \"numbers.txt\"\n",
        "\n",
        "# Write each number to the file, one per line\n",
        "with open(file_name, 'w') as file:\n",
        "    for number in numbers:\n",
        "        file.write(f\"{number}\\n\")\n",
        "\n",
        "print(f\"Numbers have been written to {file_name}.\")"
      ],
      "metadata": {
        "id": "9OHG1gPrg3WY"
      },
      "execution_count": null,
      "outputs": []
    },
    {
      "cell_type": "code",
      "source": [
        "with open(\"numbers.txt\", \"r\") as file:\n",
        "    for line in file:\n",
        "        print(line.strip())"
      ],
      "metadata": {
        "id": "tHfGeRH7g6-Q"
      },
      "execution_count": null,
      "outputs": []
    },
    {
      "cell_type": "code",
      "source": [
        "#18) How would you implement a basic logging setup that logs to a file with rotation after 1MB?\n",
        "import logging\n",
        "from logging.handlers import RotatingFileHandler\n",
        "\n",
        "# Set up a rotating file handler\n",
        "log_file = \"app.log\"\n",
        "handler = RotatingFileHandler(log_file, maxBytes=1_000_000, backupCount=3)\n",
        "\n",
        "# Configure logging\n",
        "logging.basicConfig(\n",
        "    level=logging.INFO,\n",
        "    format=\"%(asctime)s - %(levelname)s - %(message)s\",\n",
        "    handlers=[handler]\n",
        ")\n",
        "\n",
        "# Example usage\n",
        "for i in range(10000):\n",
        "    logging.info(f\"This is log message number {i}\")"
      ],
      "metadata": {
        "id": "gI2wASdTg9Zd"
      },
      "execution_count": null,
      "outputs": []
    },
    {
      "cell_type": "code",
      "source": [
        "#19  Write a program that handles both IndexError and KeyError using a try-except block.\n",
        "def handle_errors():\n",
        "    my_list = [1, 2, 3]\n",
        "    my_dict = {\"a\": 10, \"b\": 20}\n",
        "\n",
        "    try:\n",
        "        # This will raise IndexError\n",
        "        print(my_list[2])\n",
        "\n",
        "        # This will raise KeyError\n",
        "        print(my_dict[\"h\"])\n",
        "\n",
        "    except IndexError:\n",
        "        print(\"IndexError: List index is out of range.\")\n",
        "\n",
        "    except KeyError:\n",
        "        print(\"KeyError: Key not found in dictionary.\")\n",
        "\n",
        "# Run the function\n",
        "handle_errors()"
      ],
      "metadata": {
        "id": "4Wi5P5zthBAX"
      },
      "execution_count": null,
      "outputs": []
    },
    {
      "cell_type": "code",
      "source": [
        "#20)How would you open a file and read its contents using a context manager in Python.\n",
        "file_path = \"example.txt\"\n",
        "\n",
        "# Open and read the file using a context manager\n",
        "with open(file_path, 'r') as file:\n",
        "    content = file.read()\n",
        "    print(content)"
      ],
      "metadata": {
        "id": "1Hi65ySEhD9l"
      },
      "execution_count": null,
      "outputs": []
    },
    {
      "cell_type": "code",
      "source": [
        "#21)  Write a Python program that reads a file and prints the number of occurrences of a specific word.\n",
        "def count_word_occurrences(filename, target_word):\n",
        "    try:\n",
        "        with open(filename, 'r') as file:\n",
        "            content = file.read().lower()  # Convert to lowercase for case-insensitive matching\n",
        "            word_count = content.split().count(target_word.lower())\n",
        "            print(f\"The word '{target_word}' occurs {word_count} times in the file.\")\n",
        "    except FileNotFoundError:\n",
        "        print(\"The file does not exist.\")\n",
        "    except Exception as e:\n",
        "        print(f\"An error occurred: {e}\")\n",
        "\n",
        "# Example usage\n",
        "count_word_occurrences(\"example.txt\", \"new\")"
      ],
      "metadata": {
        "id": "-NgRmxGDhGif"
      },
      "execution_count": null,
      "outputs": []
    },
    {
      "cell_type": "code",
      "source": [
        "#22)  How can you check if a file is empty before attempting to read its contents.\n",
        "file_path = \"example.txt\"\n",
        "\n",
        "try:\n",
        "    with open(file_path, 'r') as file:\n",
        "        content = file.read()\n",
        "        if not content.strip():\n",
        "            print(\"The file is empty.\")\n",
        "        else:\n",
        "            print(content)\n",
        "except FileNotFoundError:\n",
        "    print(\"File not found.\")"
      ],
      "metadata": {
        "id": "rtoqLlFihJc4"
      },
      "execution_count": null,
      "outputs": []
    },
    {
      "cell_type": "code",
      "source": [
        "#23)  Write a Python program that writes to a log file when an error occurs during file handling.\n",
        "import logging\n",
        "\n",
        "# Set up logging to a file\n",
        "logging.basicConfig(\n",
        "    filename='error_log.txt',\n",
        "    level=logging.ERROR,\n",
        "    format='%(asctime)s - %(levelname)s - %(message)s'\n",
        ")\n",
        "\n",
        "def read_file(filename):\n",
        "    try:\n",
        "        with open(filename, 'r') as file:\n",
        "            content = file.read()\n",
        "            print(content)\n",
        "    except Exception as e:\n",
        "        logging.error(f\"Error reading file '{filename}': {e}\")\n",
        "        print(\"An error occurred. Check the log file for details.\")\n",
        "\n",
        "# Example usage\n",
        "read_file(\"practfile.txt\")"
      ],
      "metadata": {
        "id": "673H0mtuhMgD"
      },
      "execution_count": null,
      "outputs": []
    },
    {
      "cell_type": "code",
      "source": [],
      "metadata": {
        "id": "xbI8gNCchPky"
      },
      "execution_count": null,
      "outputs": []
    }
  ]
}